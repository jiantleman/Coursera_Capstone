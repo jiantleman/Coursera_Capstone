{
    "cells": [
        {
            "cell_type": "markdown",
            "metadata": {
                "collapsed": true
            },
            "source": "# Capstone Project - The Battle of Neighborhoods"
        },
        {
            "cell_type": "markdown",
            "metadata": {},
            "source": "## Introduction\n\n* In Singapore, a cosmopolitan city-state in Southeat Asia, food is central to the national identity and is an important cultural and social activity. Singaporeans are obsessed with eating, and take pride in the fact that Singapore is a gastronomic heaven with both delicious local cuisine and world-class international fares. Internationally, Singapore is also well-known for its food, especially its local hawker cuisine, and food is a major tourist attraction in the country. \n* This project seeks to use location data to determine the neighborhood in Singapore with the best food. This information has several useful applications for different target audiences:\n    * Tourists who are foodies can find places to stay that will give them easy access to the best food, or find neighborhoods that they can visit for a one-stop food trial\n    * Considering the importance of food nationally, Singaporeans can use the information as an additional metric when they are considering where to move and stay"
        },
        {
            "cell_type": "markdown",
            "metadata": {},
            "source": "## Data\n* The list of neighborhoods in Singapore can be obtained from the following [Wikipedia page](https://en.wikipedia.org/wiki/Planning_Areas_of_Singapore).\n* I use the Google Maps Geococing API to get the latitue and the longitude coordinates of each neighborhood.\n* With this information, I use the Foursquare API to search for food venues near each of the neighborhoods.\n* For each of these food venues, I use the API to get further information, such as:\n    * Overall rating\n    * Number of tips, and number of agree counts for each of these tips\n* I score each neighborhood based on the number of food venues nearby, overall rating and popularity (measured by tips).\n\n\n\nDescribe the data that you will be using to solve the problem or execute your idea. Remember that you will need to use the Foursquare location data to solve the problem or execute your idea. You can absolutely use other datasets in combination with the Foursquare location data. So make sure that you provide adequate explanation and discussion, with examples, of the data that you will be using, even if it is only Foursquare location data."
        },
        {
            "cell_type": "code",
            "execution_count": null,
            "metadata": {},
            "outputs": [],
            "source": ""
        }
    ],
    "metadata": {
        "kernelspec": {
            "display_name": "Python 3.6",
            "language": "python",
            "name": "python3"
        },
        "language_info": {
            "codemirror_mode": {
                "name": "ipython",
                "version": 3
            },
            "file_extension": ".py",
            "mimetype": "text/x-python",
            "name": "python",
            "nbconvert_exporter": "python",
            "pygments_lexer": "ipython3",
            "version": "3.6.9"
        }
    },
    "nbformat": 4,
    "nbformat_minor": 1
}